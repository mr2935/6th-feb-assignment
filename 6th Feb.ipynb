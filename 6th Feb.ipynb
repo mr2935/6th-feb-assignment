{
 "cells": [
  {
   "cell_type": "code",
   "execution_count": 1,
   "id": "693cff88-92e9-47a3-9f18-a59c12288721",
   "metadata": {},
   "outputs": [
    {
     "name": "stdout",
     "output_type": "stream",
     "text": [
      "R$dzmg$gl$yvxlnv$z$Wzgz$Hxrvmgrhg.\n"
     ]
    }
   ],
   "source": [
    "#Question 2\n",
    "def encrypt_message(message):\n",
    "    encrypted_message = \"\"\n",
    "    for char in message:\n",
    "        if char.isalpha():\n",
    "            if char.isupper():\n",
    "                encrypted_char = chr(90 - (ord(char) - 65))\n",
    "            else:\n",
    "                encrypted_char = chr(122 - (ord(char) - 97))\n",
    "        elif char == \" \":\n",
    "            encrypted_char = \"$\"\n",
    "        else:\n",
    "            encrypted_char = char\n",
    "        encrypted_message += encrypted_char\n",
    "\n",
    "    return encrypted_message\n",
    "\n",
    "input_sentence = \"I want to become a Data Scientist.\"\n",
    "encrypted_sentence = encrypt_message(input_sentence)\n",
    "print(encrypted_sentence)\n",
    "\n"
   ]
  },
  {
   "cell_type": "code",
   "execution_count": 3,
   "id": "008e794b-d9f1-420a-9cec-ded5a1685ddd",
   "metadata": {},
   "outputs": [
    {
     "name": "stdout",
     "output_type": "stream",
     "text": [
      "0\n"
     ]
    }
   ],
   "source": [
    "# Question 1\n",
    "from collections.abc import Iterable\n",
    "from functools import reduce\n",
    "import operator\n",
    "\n",
    "def flatten_and_multiply(lst):\n",
    "    flat_list = []\n",
    "\n",
    "    def recursive_flatten(lst):\n",
    "        for item in lst:\n",
    "            if isinstance(item, dict):\n",
    "                recursive_flatten(item.keys())\n",
    "                recursive_flatten(item.values())\n",
    "            elif isinstance(item, Iterable) and not isinstance(item, (str, bytes)):\n",
    "                recursive_flatten(item)\n",
    "            else:\n",
    "                flat_list.append(item)\n",
    "\n",
    "    recursive_flatten(lst)\n",
    "    numbers = [num for num in flat_list if isinstance(num, (int, float))]\n",
    "    product = reduce(operator.mul, numbers, 1)\n",
    "\n",
    "    return product\n",
    "\n",
    "list1 = [1, 2, 3, 4, [44, 55, 66, True], False, (34, 56, 78, 89, 34), {1, 2, 3, 3, 2, 1}, {1: 34, \"key2\": [55, 67, 78, 89], 4: (45, 22, 61, 34)}, [56, 'data science'], 'Machine Learning']\n",
    "\n",
    "result = flatten_and_multiply(list1)\n",
    "print(result)\n"
   ]
  },
  {
   "cell_type": "code",
   "execution_count": null,
   "id": "b0ac8788-369a-4c06-9f4a-658082b889eb",
   "metadata": {},
   "outputs": [],
   "source": []
  }
 ],
 "metadata": {
  "kernelspec": {
   "display_name": "Python 3 (ipykernel)",
   "language": "python",
   "name": "python3"
  },
  "language_info": {
   "codemirror_mode": {
    "name": "ipython",
    "version": 3
   },
   "file_extension": ".py",
   "mimetype": "text/x-python",
   "name": "python",
   "nbconvert_exporter": "python",
   "pygments_lexer": "ipython3",
   "version": "3.10.8"
  }
 },
 "nbformat": 4,
 "nbformat_minor": 5
}
